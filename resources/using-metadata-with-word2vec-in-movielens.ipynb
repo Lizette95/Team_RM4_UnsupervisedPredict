{
 "cells": [
  {
   "cell_type": "markdown",
   "metadata": {
    "_uuid": "b0032f25c687af91acfdb712b35585245db88068"
   },
   "source": [
    "# Using Metadata with Word2Vec to get recommendations in MovieLens"
   ]
  },
  {
   "cell_type": "markdown",
   "metadata": {
    "_uuid": "630802e2e331380178744f966451c3620576a78b"
   },
   "source": [
    "The idea of this notebook is to introduce an idea to use Word2Vec in a well-known dataset such as MovieLens. The approach is to define documents guided by what each user saw. After train we can relate films and its features. Also users can be related to them."
   ]
  },
  {
   "cell_type": "code",
   "execution_count": null,
   "metadata": {
    "_uuid": "9af9fbd9af9b221bcdcc19f5d24db729d69241b0",
    "scrolled": true
   },
   "outputs": [],
   "source": [
    "import numpy as np\n",
    "import pandas as pd"
   ]
  },
  {
   "cell_type": "markdown",
   "metadata": {
    "_uuid": "bf15aacca4e55fe3d784e0f338ba1c960c077c57"
   },
   "source": [
    "First we'll get the data and sort by time. The reason of sorting by time is due to the fact that we need the movies that each user saw in chronological order."
   ]
  },
  {
   "cell_type": "code",
   "execution_count": null,
   "metadata": {
    "_uuid": "060f591a48991dd7c1eb6b8cea75730d2d524960"
   },
   "outputs": [],
   "source": [
    "df_train = pd.read_csv(\"../input/u.data.csv\", names=['user_id', 'item_id', 'ranking', 'time'], sep='\\t')\n",
    "df_train['time'] = pd.to_datetime(df_train['time'],unit='s')\n",
    "df_train = df_train.sort_values(by='time')"
   ]
  },
  {
   "cell_type": "markdown",
   "metadata": {
    "_uuid": "114ccefe62a8eaed82e90058be9537eee4760593"
   },
   "source": [
    "And filter with ranking above of 3 points"
   ]
  },
  {
   "cell_type": "code",
   "execution_count": null,
   "metadata": {
    "_uuid": "36e62fe6fb298401a2860ccccc44540d218fde5d"
   },
   "outputs": [],
   "source": [
    "df_train = df_train[df_train['ranking'] > 3]"
   ]
  },
  {
   "cell_type": "code",
   "execution_count": null,
   "metadata": {
    "_uuid": "4a20b2ff00cf4e29b7d666fc207236776b50f058"
   },
   "outputs": [],
   "source": [
    "df_train.head()"
   ]
  },
  {
   "cell_type": "markdown",
   "metadata": {
    "_uuid": "7dba1bcac328ab528c6f997f3fec678b03db865a"
   },
   "source": [
    "Getting item features"
   ]
  },
  {
   "cell_type": "code",
   "execution_count": null,
   "metadata": {
    "_uuid": "5ed627e29cfedbf65c9e3365f5ac96f3166929ac"
   },
   "outputs": [],
   "source": [
    "names=['item_id', 'movie title', 'release date', 'video release date',\n",
    "              'IMDb URL', 'unknown', 'Action', 'Adventure', 'Animation',\n",
    "              'Children', 'Comedy', 'Crime', 'Documentary', 'Drama', 'Fantasy',\n",
    "              'Film-Noir', 'Horror', 'Musical', 'Mystery', 'Romance', 'Sci-Fi',\n",
    "              'Thriller', 'War', 'Western' ]\n",
    "df_items = pd.read_csv(\"../input/u.item\", names= names, sep='|', encoding = 'ISO-8859-1')"
   ]
  },
  {
   "cell_type": "code",
   "execution_count": null,
   "metadata": {
    "_uuid": "3290bbdab9a3327a59b8a761a50bfd5094e2a54c"
   },
   "outputs": [],
   "source": [
    "df_items = df_items.filter(['item_id', 'movie title', 'Action', 'Adventure', 'Animation',\n",
    "              'Children', 'Comedy', 'Crime', 'Documentary', 'Drama', 'Fantasy',\n",
    "              'Film-Noir', 'Horror', 'Musical', 'Mystery', 'Romance', 'Sci-Fi',\n",
    "              'Thriller', 'War', 'Western'])"
   ]
  },
  {
   "cell_type": "code",
   "execution_count": null,
   "metadata": {
    "_uuid": "69eefbc4c7eb63f2aa1a0932751b6bdd28ad5af9",
    "scrolled": true
   },
   "outputs": [],
   "source": [
    "df_items.head()"
   ]
  },
  {
   "cell_type": "markdown",
   "metadata": {
    "_uuid": "37d2a0d0bacf536a29c0445881f023d8329f4815"
   },
   "source": [
    "Merge train with items to get their genre"
   ]
  },
  {
   "cell_type": "code",
   "execution_count": null,
   "metadata": {
    "_uuid": "ffe520bca4f07de3aca7096c6a24455920ea603f"
   },
   "outputs": [],
   "source": [
    "df_train_2 = pd.merge(df_train, df_items, on='item_id')"
   ]
  },
  {
   "cell_type": "markdown",
   "metadata": {
    "_uuid": "f34608f97d8b182ae875c66a64f8cf5a71f7dc8c"
   },
   "source": [
    "Let's see if how the train dataframe was built. We want to see all the items watched by user_id 914"
   ]
  },
  {
   "cell_type": "code",
   "execution_count": null,
   "metadata": {
    "_uuid": "a37577231bb86d0950a606961fca54fab716a128",
    "scrolled": false
   },
   "outputs": [],
   "source": [
    "df_train_2[df_train_2['user_id'] == 914]"
   ]
  },
  {
   "cell_type": "markdown",
   "metadata": {
    "_uuid": "055454b064d344e3d79235d043c42848cfa074e6"
   },
   "source": [
    "One film can be in several genres at once. We can see this adding a column 'Total' that is the sum of all the genres. "
   ]
  },
  {
   "cell_type": "code",
   "execution_count": null,
   "metadata": {
    "_uuid": "345da1eae27f2ae9a97442a376e4cbdf63ba5d4d",
    "scrolled": true
   },
   "outputs": [],
   "source": [
    "l = ['Action', 'Adventure', 'Animation', \n",
    "    'Children', 'Comedy', 'Crime', 'Documentary', 'Drama', 'Fantasy',\n",
    "    'Film-Noir', 'Horror', 'Musical', 'Mystery', 'Romance', 'Sci-Fi',\n",
    "    'Thriller', 'War', 'Western']\n",
    "    \n",
    "def f(row):\n",
    "    sum = 0\n",
    "    for i in l:\n",
    "        sum = sum+row[i] \n",
    "    return sum\n",
    "    \n",
    "df_train_2['Total'] = df_train_2.apply(f, axis=1)\n",
    "df_train_2.head()"
   ]
  },
  {
   "cell_type": "markdown",
   "metadata": {
    "_uuid": "6e834343d2d196cf9748a182d8c82f1668f2cd9b"
   },
   "source": [
    "In the following cell, we can see that the majority of the films have 2 features. In the next steps we will see why this is important"
   ]
  },
  {
   "cell_type": "code",
   "execution_count": null,
   "metadata": {
    "_uuid": "e268edadf55c404b39260602e6259d56c578dc8f"
   },
   "outputs": [],
   "source": [
    "df_items['Total'] = df_items.apply(f, axis=1)\n",
    "df_items['Total'].describe()"
   ]
  },
  {
   "cell_type": "markdown",
   "metadata": {
    "_uuid": "1dd911769981ab5e182b86cae9cb654c376dc44f"
   },
   "source": [
    "Now we will create a dataset with all the users and all their watched films sorted by timestamp. Also we'll add the first genre that is related to each movie. I know that a movie has several genres but this is to keep the example simple. Undoubtedly this could be coded better."
   ]
  },
  {
   "cell_type": "code",
   "execution_count": null,
   "metadata": {
    "_uuid": "e00b659902960c16a2cdad07471c2ed1bf3d62c3"
   },
   "outputs": [],
   "source": [
    "def get_features_movie(item_id):\n",
    "    l = ['Action', 'Adventure', 'Animation', \n",
    "    'Children', 'Comedy', 'Crime', 'Documentary', 'Drama', 'Fantasy',\n",
    "    'Film-Noir', 'Horror', 'Musical', 'Mystery', 'Romance', 'Sci-Fi',\n",
    "    'Thriller', 'War', 'Western']\n",
    "    \n",
    "    features = []\n",
    "    temp = df_items[df_items['item_id'] == item_id]\n",
    "    for i in l:\n",
    "        if temp.iloc[0][i]:\n",
    "            features = features + [i]\n",
    "    \n",
    "    return features\n",
    "\n",
    "def convert_to_list(item_id):\n",
    "    return \" \".join([str(x) for x in get_features_movie(item_id)[:1]])\n",
    "\n",
    "train_watched = pd.DataFrame(columns=['user_id', 'watched'])\n",
    "\n",
    "for index, user_id in enumerate(range(min(df_train_2['user_id']), max(df_train_2['user_id']))):\n",
    "    d = df_train_2[df_train_2['user_id'] == user_id].filter(['item_id'])\n",
    "    l = d['item_id'].tolist()\n",
    "    l_to_string = \" \".join([convert_to_list(x)+\" \"+str(x) for x in l])\n",
    "    train_watched.loc[index] = [user_id, l_to_string]"
   ]
  },
  {
   "cell_type": "code",
   "execution_count": null,
   "metadata": {
    "_uuid": "addd6543becb85c8ec6d9cd8e6e13d1c5a8fa49d"
   },
   "outputs": [],
   "source": [
    "train_watched.head()"
   ]
  },
  {
   "cell_type": "markdown",
   "metadata": {
    "_uuid": "5b656ed60d62384af9f5fd25e27fc51fc8a5a4b7"
   },
   "source": [
    "Therefore in the new dataset we can see the trace of watched films and its genre for each user. It's time to use word2vec."
   ]
  },
  {
   "cell_type": "code",
   "execution_count": null,
   "metadata": {
    "_uuid": "9a41ff14139bce8843722166f23b3a5861da221c",
    "scrolled": true
   },
   "outputs": [],
   "source": [
    "from gensim.test.utils import common_texts\n",
    "from gensim.models.word2vec import Word2Vec"
   ]
  },
  {
   "cell_type": "code",
   "execution_count": null,
   "metadata": {
    "_uuid": "cdbc6662458cc432b8b6d381f8ae44893f7e348e"
   },
   "outputs": [],
   "source": [
    "list_doc = []\n",
    "\n",
    "for row in train_watched.to_dict(orient='record'):\n",
    "    list_doc.append(str(row['watched']).strip().split(' '))"
   ]
  },
  {
   "cell_type": "code",
   "execution_count": null,
   "metadata": {
    "_uuid": "ea7eda5db6cd0ac5aaa49e3e6b7b8ab28a4c4d4e"
   },
   "outputs": [],
   "source": [
    "model = Word2Vec(list_doc, window=5, min_count=1, workers=4)"
   ]
  },
  {
   "cell_type": "markdown",
   "metadata": {
    "_uuid": "bbd5f1a149469b210dfb0aee99942de67ed0b985"
   },
   "source": [
    "After train we have to see the results."
   ]
  },
  {
   "cell_type": "code",
   "execution_count": null,
   "metadata": {
    "_uuid": "b0e8d18d591e80f0fc603e3d56d7577fd2c3dd0e",
    "scrolled": false
   },
   "outputs": [],
   "source": [
    "def most_similar(item_id_or_genre):\n",
    "    try:\n",
    "        print(\"Similar of \"+df_items[df_items['item_id'] == int(item_id_or_genre)].iloc[0]['movie title'])\n",
    "    except:\n",
    "        print(\"Similar of \"+item_id_or_genre)\n",
    "    return [(x, df_items[df_items['item_id'] == int(x[0])].iloc[0]['movie title']) for x in model.wv.most_similar(item_id_or_genre)]"
   ]
  },
  {
   "cell_type": "code",
   "execution_count": null,
   "metadata": {
    "_uuid": "e5616a751a4dc79e8186f8e074f9b438ed110b64",
    "scrolled": true
   },
   "outputs": [],
   "source": [
    "most_similar('Action')"
   ]
  },
  {
   "cell_type": "markdown",
   "metadata": {
    "_uuid": "4273acf98a6f6bd495e0a96d68407ca5a2ccc8bb"
   },
   "source": [
    "It seems that it works! The query of the word 'Action' is near to action movies such as 'GoldenEye (1995)'. What about 'Horror'?"
   ]
  },
  {
   "cell_type": "code",
   "execution_count": null,
   "metadata": {
    "_uuid": "7f49bfea4cb251cbd51e747fec50c45eb34f3899",
    "scrolled": true
   },
   "outputs": [],
   "source": [
    "most_similar('Horror')"
   ]
  },
  {
   "cell_type": "markdown",
   "metadata": {
    "_uuid": "94d9760a3ff0afd03ba7c6d6034291f1c1919e79"
   },
   "source": [
    "All of the movies listed are about Horror. Thumbs up! :)"
   ]
  },
  {
   "cell_type": "markdown",
   "metadata": {
    "_uuid": "29dcaff2b7f194fbb727333a2803c5f1cd3ed788"
   },
   "source": [
    "Let's see movies related with Die Hard 2..."
   ]
  },
  {
   "cell_type": "code",
   "execution_count": null,
   "metadata": {
    "_uuid": "88c1f106262bba28a5c67acf467d1eb7f4dad4a8",
    "scrolled": true
   },
   "outputs": [],
   "source": [
    "most_similar('226')"
   ]
  },
  {
   "cell_type": "markdown",
   "metadata": {
    "_uuid": "9af8e38b78dc9254bb7b0cb4022ba409383fadb7"
   },
   "source": [
    "All the results are almost action, and also Die Hard 3 is recommended. Quite good! This could be used when you want a recommendation from a genre or an item. But what about a recommendation for a user?. For example what films the user_id 914 saw?"
   ]
  },
  {
   "cell_type": "code",
   "execution_count": null,
   "metadata": {
    "_uuid": "52b83e9e6ccbcf73af8940aa3dcca5e6b0902c6c"
   },
   "outputs": [],
   "source": [
    "df_train_2[df_train_2['user_id'] == 914].filter(['item_id', 'movie title']+l)"
   ]
  },
  {
   "cell_type": "markdown",
   "metadata": {
    "_uuid": "f7de92c5edb87a55b6d8893c7430f645c20b8ef8"
   },
   "source": [
    "Let's define a user as a vector of the average of movies that he/she saw."
   ]
  },
  {
   "cell_type": "code",
   "execution_count": null,
   "metadata": {
    "_uuid": "8b763f6712ba97680bd332f2d6d7bb35bce2f91e"
   },
   "outputs": [],
   "source": [
    "def create_avg_user_vector(user_id):\n",
    "    item_id_list = df_train_2[df_train_2['user_id'] == user_id]['item_id'].tolist()\n",
    "    vector_item_id_list = [model.wv[str(x)] for x in item_id_list]\n",
    "    return np.average(vector_item_id_list, axis=0)\n",
    "\n",
    "def most_similar_by_vector(vector):\n",
    "    return [(x, df_items[df_items['item_id'] == int(x[0])].iloc[0]['movie title']) for x in model.wv.similar_by_vector(vector)]\n",
    "\n",
    "most_similar_by_vector(create_avg_user_vector(914))"
   ]
  },
  {
   "cell_type": "markdown",
   "metadata": {
    "_uuid": "5d0abcf8909c6f7a8b2756c4a23328681b3798e7"
   },
   "source": [
    "Analysing the results we can see that almost the movies are comedies or family films. For instance 'First Kid (1996)' and 'Father of the Bride Part II (1995)' are definetly comedie films. Also the last one it's romantic too. So, we can describe an user using their movies preferencies. "
   ]
  },
  {
   "cell_type": "markdown",
   "metadata": {
    "_uuid": "2ba9d5b8da0d8b5b213c20b3b68645227b82ddf9"
   },
   "source": [
    "## Some considerations\n",
    "* The idea of use the first genre of the table is completely arbitrary. I tried doing the same adding two genres to see if it could be better. It seems that it's not working notoriusly better. Also using all the genres in the documents imples that the window size in the model must be tunned. It could be nice for a future work of this notebook.\n",
    "* It is possible that genre that are in the last columns could not be in the vocabulary. That is because we get only the first genre.\n",
    "* This ideas became after watching the following video https://www.youtube.com/watch?v=TINZK94reEE. In that video, Flavian said that he could perform recommendation without adding a new implementation of word2vec. I suspect that he did something similar of this. Also there is a paper about it: https://arxiv.org/pdf/1607.07326.pdf\n",
    "* The idea of represent an user with an average is from https://towardsdatascience.com/using-word2vec-for-music-recommendations-bb9649ac2484 \n",
    "* If someone read this article and have advice of improve the code, it is completely welcomed!\n",
    "\n",
    "Thanks for reading! :)"
   ]
  }
 ],
 "metadata": {
  "kernelspec": {
   "display_name": "Python 3",
   "language": "python",
   "name": "python3"
  },
  "language_info": {
   "codemirror_mode": {
    "name": "ipython",
    "version": 3
   },
   "file_extension": ".py",
   "mimetype": "text/x-python",
   "name": "python",
   "nbconvert_exporter": "python",
   "pygments_lexer": "ipython3",
   "version": "3.7.4"
  }
 },
 "nbformat": 4,
 "nbformat_minor": 1
}
