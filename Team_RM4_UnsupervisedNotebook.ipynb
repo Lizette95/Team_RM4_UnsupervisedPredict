{
  "nbformat": 4,
  "nbformat_minor": 0,
  "metadata": {
    "colab": {
      "name": "Team_RM4_UnsupervisedNotebook.ipynb",
      "provenance": [],
      "collapsed_sections": [],
      "include_colab_link": true
    },
    "kernelspec": {
      "display_name": "Python 3",
      "language": "python",
      "name": "python3"
    },
    "language_info": {
      "codemirror_mode": {
        "name": "ipython",
        "version": 3
      },
      "file_extension": ".py",
      "mimetype": "text/x-python",
      "name": "python",
      "nbconvert_exporter": "python",
      "pygments_lexer": "ipython3",
      "version": "3.7.4"
    }
  },
  "cells": [
    {
      "cell_type": "markdown",
      "metadata": {
        "id": "view-in-github",
        "colab_type": "text"
      },
      "source": [
        "<a href=\"https://colab.research.google.com/github/Lizette95/Team_RM4_UnsupervisedPredict/blob/master/Team_RM4_UnsupervisedNotebook.ipynb\" target=\"_parent\"><img src=\"https://colab.research.google.com/assets/colab-badge.svg\" alt=\"Open In Colab\"/></a>"
      ]
    },
    {
      "cell_type": "markdown",
      "metadata": {
        "colab_type": "text",
        "id": "JmwSEWO22Fw1"
      },
      "source": [
        "<a id=\"top\"></a>\n",
        "# Team RM4 Unsupervised Predict Notebook"
      ]
    },
    {
      "cell_type": "markdown",
      "metadata": {
        "id": "0n60dl8EL9eh",
        "colab_type": "text"
      },
      "source": [
        "**Team Members:** Bulelani Nkosi, Lizette Loubser, Nelisiwe Phiwe Mabanga, Noluthando Khumalo, Nompilo Nhlabathi, Sizwe Bhembe  \n",
        "**Supervisor:** Ridha Moosa\n",
        "\n",
        "* [Notebook repo](https://github.com/Lizette95/Team_RM4_UnsupervisedPredict)\n",
        "* [Streamlit repo](https://github.com/Lizette95/unsupervised-predict-streamlit-template)\n",
        "* [Trello board](https://trello.com/b/1xeVg7gj/unsupervisedteamrm4) "
      ]
    },
    {
      "cell_type": "markdown",
      "metadata": {
        "colab_type": "text",
        "id": "PJbrOXzh2Fw3"
      },
      "source": [
        "### Table of Contents\n",
        "---\n",
        "1. [Introduction](#intro)\n",
        " * Background\n",
        " * Problem Statement\n",
        "---\n",
        "2. [Load Dependencies](#imports)\n",
        "---\n",
        "3. [Data Cleaning](#cleaning)\n",
        "---\n",
        "4. [Exploratory Data Analysis](#EDA)\n",
        "---\n",
        "5. [Data Preprocessing](#preprocessing)\n",
        "---\n",
        "6. [Modelling](#modelling)\n",
        "---\n",
        "7. [Performance Evaluation](#evaluation)\n",
        "---\n",
        "8. [Model Analysis](#analysis)\n",
        "---\n",
        "9. [Conclusion](#conclusion)\n",
        "---\n",
        "10. [Save Output](#save)\n",
        "---"
      ]
    },
    {
      "cell_type": "markdown",
      "metadata": {
        "colab_type": "text",
        "id": "FuWPzFFu2Fw4"
      },
      "source": [
        "<a id=\"intro\"></a>\n",
        "## 1. Introduction  \n",
        "\n",
        "### Background\n",
        "\n",
        "\n",
        "### Problem Statement\n",
        "\n"
      ]
    },
    {
      "cell_type": "markdown",
      "metadata": {
        "colab_type": "text",
        "id": "_9Q_MjhR2Fw5"
      },
      "source": [
        "<a id=\"imports\"></a>\n",
        "## 2. Load Dependencies"
      ]
    },
    {
      "cell_type": "code",
      "metadata": {
        "id": "LCQ4QOGWL9ek",
        "colab_type": "code",
        "colab": {
          "base_uri": "https://localhost:8080/",
          "height": 588
        },
        "outputId": "516bc3ad-a21c-4c97-9bb0-4342c4129b46"
      },
      "source": [
        "# Link workspace to Comet experiment\n",
        "# !pip install comet_ml\n",
        "# from comet_ml import Experiment\n",
        "# experiment = Experiment(api_key=\"skTy61Bw2NfYh84G1ifx0OO26\", project_name=\"unsupervised-predict\", workspace=\"jhb-rm4\")"
      ],
      "execution_count": 1,
      "outputs": [
        {
          "output_type": "stream",
          "text": [
            "Collecting comet_ml\n",
            "\u001b[?25l  Downloading https://files.pythonhosted.org/packages/ac/d8/99564b9b0d68a8acce733a5b053497a4a51e3ffdc54e4b117808bd6c4c94/comet_ml-3.1.12-py2.py3-none-any.whl (214kB)\n",
            "\r\u001b[K     |█▌                              | 10kB 24.3MB/s eta 0:00:01\r\u001b[K     |███                             | 20kB 5.1MB/s eta 0:00:01\r\u001b[K     |████▋                           | 30kB 6.7MB/s eta 0:00:01\r\u001b[K     |██████                          | 40kB 7.5MB/s eta 0:00:01\r\u001b[K     |███████▋                        | 51kB 6.1MB/s eta 0:00:01\r\u001b[K     |█████████▏                      | 61kB 6.4MB/s eta 0:00:01\r\u001b[K     |██████████▊                     | 71kB 7.0MB/s eta 0:00:01\r\u001b[K     |████████████▏                   | 81kB 7.5MB/s eta 0:00:01\r\u001b[K     |█████████████▊                  | 92kB 7.6MB/s eta 0:00:01\r\u001b[K     |███████████████▎                | 102kB 8.2MB/s eta 0:00:01\r\u001b[K     |████████████████▊               | 112kB 8.2MB/s eta 0:00:01\r\u001b[K     |██████████████████▎             | 122kB 8.2MB/s eta 0:00:01\r\u001b[K     |███████████████████▉            | 133kB 8.2MB/s eta 0:00:01\r\u001b[K     |█████████████████████▍          | 143kB 8.2MB/s eta 0:00:01\r\u001b[K     |██████████████████████▉         | 153kB 8.2MB/s eta 0:00:01\r\u001b[K     |████████████████████████▍       | 163kB 8.2MB/s eta 0:00:01\r\u001b[K     |██████████████████████████      | 174kB 8.2MB/s eta 0:00:01\r\u001b[K     |███████████████████████████▍    | 184kB 8.2MB/s eta 0:00:01\r\u001b[K     |█████████████████████████████   | 194kB 8.2MB/s eta 0:00:01\r\u001b[K     |██████████████████████████████▌ | 204kB 8.2MB/s eta 0:00:01\r\u001b[K     |████████████████████████████████| 215kB 8.2MB/s \n",
            "\u001b[?25hRequirement already satisfied: nvidia-ml-py3>=7.352.0 in /usr/local/lib/python3.6/dist-packages (from comet_ml) (7.352.0)\n",
            "Collecting websocket-client>=0.55.0\n",
            "\u001b[?25l  Downloading https://files.pythonhosted.org/packages/4c/5f/f61b420143ed1c8dc69f9eaec5ff1ac36109d52c80de49d66e0c36c3dfdf/websocket_client-0.57.0-py2.py3-none-any.whl (200kB)\n",
            "\u001b[K     |████████████████████████████████| 204kB 14.7MB/s \n",
            "\u001b[?25hCollecting everett[ini]>=1.0.1; python_version >= \"3.0\"\n",
            "  Downloading https://files.pythonhosted.org/packages/12/34/de70a3d913411e40ce84966f085b5da0c6df741e28c86721114dd290aaa0/everett-1.0.2-py2.py3-none-any.whl\n",
            "Requirement already satisfied: six in /usr/local/lib/python3.6/dist-packages (from comet_ml) (1.12.0)\n",
            "Collecting comet-git-pure>=0.19.11\n",
            "\u001b[?25l  Downloading https://files.pythonhosted.org/packages/72/7a/483413046e48908986a0f9a1d8a917e1da46ae58e6ba16b2ac71b3adf8d7/comet_git_pure-0.19.16-py3-none-any.whl (409kB)\n",
            "\u001b[K     |████████████████████████████████| 419kB 20.1MB/s \n",
            "\u001b[?25hRequirement already satisfied: requests>=2.18.4 in /usr/local/lib/python3.6/dist-packages (from comet_ml) (2.23.0)\n",
            "Requirement already satisfied: jsonschema!=3.1.0,>=2.6.0 in /usr/local/lib/python3.6/dist-packages (from comet_ml) (2.6.0)\n",
            "Collecting wurlitzer>=1.0.2\n",
            "  Downloading https://files.pythonhosted.org/packages/0c/1e/52f4effa64a447c4ec0fb71222799e2ac32c55b4b6c1725fccdf6123146e/wurlitzer-2.0.1-py2.py3-none-any.whl\n",
            "Collecting netifaces>=0.10.7\n",
            "  Downloading https://files.pythonhosted.org/packages/0c/9b/c4c7eb09189548d45939a3d3a6b3d53979c67d124459b27a094c365c347f/netifaces-0.10.9-cp36-cp36m-manylinux1_x86_64.whl\n",
            "Collecting configobj; extra == \"ini\"\n",
            "  Downloading https://files.pythonhosted.org/packages/64/61/079eb60459c44929e684fa7d9e2fdca403f67d64dd9dbac27296be2e0fab/configobj-5.0.6.tar.gz\n",
            "Requirement already satisfied: urllib3>=1.24.1 in /usr/local/lib/python3.6/dist-packages (from comet-git-pure>=0.19.11->comet_ml) (1.24.3)\n",
            "Requirement already satisfied: certifi in /usr/local/lib/python3.6/dist-packages (from comet-git-pure>=0.19.11->comet_ml) (2020.6.20)\n",
            "Requirement already satisfied: idna<3,>=2.5 in /usr/local/lib/python3.6/dist-packages (from requests>=2.18.4->comet_ml) (2.9)\n",
            "Requirement already satisfied: chardet<4,>=3.0.2 in /usr/local/lib/python3.6/dist-packages (from requests>=2.18.4->comet_ml) (3.0.4)\n",
            "Building wheels for collected packages: configobj\n",
            "  Building wheel for configobj (setup.py) ... \u001b[?25l\u001b[?25hdone\n",
            "  Created wheel for configobj: filename=configobj-5.0.6-cp36-none-any.whl size=34546 sha256=83b4532a03422088c0c7adf6de67c2d3eb1099a1ebd4331913ecdb148a89e953\n",
            "  Stored in directory: /root/.cache/pip/wheels/f1/e4/16/4981ca97c2d65106b49861e0b35e2660695be7219a2d351ee0\n",
            "Successfully built configobj\n",
            "Installing collected packages: websocket-client, configobj, everett, comet-git-pure, wurlitzer, netifaces, comet-ml\n",
            "Successfully installed comet-git-pure-0.19.16 comet-ml-3.1.12 configobj-5.0.6 everett-1.0.2 netifaces-0.10.9 websocket-client-0.57.0 wurlitzer-2.0.1\n"
          ],
          "name": "stdout"
        },
        {
          "output_type": "stream",
          "text": [
            "COMET INFO: Experiment is live on comet.ml https://www.comet.ml/jhb-rm4/unsupervised-predict/919e57c720cc490ea0ade479108737c3\n",
            "\n"
          ],
          "name": "stderr"
        }
      ]
    },
    {
      "cell_type": "code",
      "metadata": {
        "colab_type": "code",
        "id": "sHYujSMU2Fw7",
        "colab": {}
      },
      "source": [
        "# Ignore warnings\n",
        "import warnings\n",
        "warnings.simplefilter(action='ignore')\n",
        "\n",
        "# Install Prerequisites\n",
        "import sys\n",
        "import nltk\n",
        "!{sys.executable} -m pip install bs4 lxml wordcloud scikit-learn scikit-plot\n",
        "nltk.download('vader_lexicon')\n",
        "\n",
        "# Exploratory Data Analysis\n",
        "import pickle\n",
        "import numpy as np\n",
        "import pandas as pd\n",
        "import seaborn as sns\n",
        "import matplotlib.pyplot as plt\n",
        "\n",
        "# Data Preprocessing\n",
        "\n",
        "# Models\n",
        "\n",
        "# Performance Evaluation\n",
        "\n",
        "# Display\n",
        "%matplotlib inline\n",
        "sns.set(font_scale=1)\n",
        "sns.set_style(\"white\")"
      ],
      "execution_count": null,
      "outputs": []
    },
    {
      "cell_type": "markdown",
      "metadata": {
        "colab_type": "text",
        "id": "hwuqPkzkDM62"
      },
      "source": [
        "<a id=\"cleaning\"></a>\n",
        "## 3. Data Cleaning"
      ]
    },
    {
      "cell_type": "markdown",
      "metadata": {
        "colab_type": "text",
        "id": "S5hj30DdL9eq"
      },
      "source": [
        "<a id=\"EDA\"></a>\n",
        "## 4. Exploratory Data Analysis"
      ]
    },
    {
      "cell_type": "markdown",
      "metadata": {
        "colab_type": "text",
        "id": "z6jONYzo2Fx2"
      },
      "source": [
        "<a id=\"preprocessing\"></a>\n",
        "## 5. Data Preprocessing"
      ]
    },
    {
      "cell_type": "markdown",
      "metadata": {
        "colab_type": "text",
        "id": "chM0AHBJ2FyD"
      },
      "source": [
        "<a id=\"modelling\"></a>\n",
        "## 6. Modelling"
      ]
    },
    {
      "cell_type": "markdown",
      "metadata": {
        "colab_type": "text",
        "id": "teKzAXIF2FyS"
      },
      "source": [
        "<a id=\"evaluation\"></a>\n",
        "## 7. Performance Evaluation"
      ]
    },
    {
      "cell_type": "markdown",
      "metadata": {
        "colab_type": "text",
        "id": "5BiBBxvR2FyY"
      },
      "source": [
        "<a id=\"analysis\"></a>\n",
        "## 8. Model Analysis"
      ]
    },
    {
      "cell_type": "markdown",
      "metadata": {
        "id": "VVzGHxoQL9es",
        "colab_type": "text"
      },
      "source": [
        "<a id=\"conclusion\"></a>\n",
        "## 9. Conclusion"
      ]
    },
    {
      "cell_type": "markdown",
      "metadata": {
        "id": "j4eHDTwoL9et",
        "colab_type": "text"
      },
      "source": [
        "<a id=\"save\"></a>\n",
        "## 10. Save Output"
      ]
    },
    {
      "cell_type": "code",
      "metadata": {
        "id": "LjAQTPZmL9et",
        "colab_type": "code",
        "colab": {}
      },
      "source": [
        "# Create Kaggle Submission File\n",
        "# results.to_csv(\"Team_RM4_submission.csv\", index=False)"
      ],
      "execution_count": null,
      "outputs": []
    },
    {
      "cell_type": "code",
      "metadata": {
        "id": "DWi0DhWiL9ew",
        "colab_type": "code",
        "colab": {}
      },
      "source": [
        "# print(\"\\nResults\\nConfusion matrix \\n {}\".format(confusion_matrix(y_val, y_pred)))\n",
        "# f1 = f1_score(y_val, y_pred,average=\"macro\")\n",
        "# precision = precision_score(y_val, y_pred,average=\"macro\")\n",
        "# recall = recall_score(y_val, y_pred,average=\"macro\")\n",
        "# params = {\"random_state\": 42,\n",
        "#           \"model_type\": \"svc\",\n",
        "#           \"param_grid\": \"str(param_grid)\",\n",
        "#           \"stratify\": True,\n",
        "#           }\n",
        "# metrics = {\"f1\": f1,\n",
        "#            \"recall\": recall,\n",
        "#            \"precision\": precision\n",
        "#            }\n",
        "\n",
        "# experiment.log_parameters(params)\n",
        "# experiment.log_metrics(metrics)\n",
        "# experiment.end()"
      ],
      "execution_count": null,
      "outputs": []
    },
    {
      "cell_type": "code",
      "metadata": {
        "id": "7kwqZ3ToL9ey",
        "colab_type": "code",
        "colab": {}
      },
      "source": [
        "# experiment.display()"
      ],
      "execution_count": null,
      "outputs": []
    },
    {
      "cell_type": "markdown",
      "metadata": {
        "colab_type": "text",
        "id": "eoo2Ek6G2Fy6"
      },
      "source": [
        "[Back to top ↑](#top)"
      ]
    }
  ]
}