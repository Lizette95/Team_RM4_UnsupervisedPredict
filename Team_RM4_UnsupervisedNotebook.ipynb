{
 "cells": [
  {
   "cell_type": "markdown",
   "metadata": {
    "colab_type": "text",
    "id": "JmwSEWO22Fw1"
   },
   "source": [
    "<a id=\"top\"></a>\n",
    "# Team RM4 Unsupervised Predict Notebook"
   ]
  },
  {
   "cell_type": "markdown",
   "metadata": {},
   "source": [
    "**Team Members:** Bulelani Nkosi, Lizette Loubser, Nelisiwe Phiwe Mabanga, Noluthando Khumalo, Nompilo Nhlabathi, Sizwe Bhembe  \n",
    "**Supervisor:** Ridha Moosa\n",
    "\n",
    "* [Notebook repo](https://github.com/Lizette95/Team_RM4_UnsupervisedPredict)\n",
    "* [Streamlit repo](https://github.com/Lizette95/unsupervised-predict-streamlit-template)\n",
    "* [Trello board](https://trello.com/b/1xeVg7gj/unsupervisedteamrm4) "
   ]
  },
  {
   "cell_type": "markdown",
   "metadata": {
    "colab_type": "text",
    "id": "PJbrOXzh2Fw3"
   },
   "source": [
    "### Table of Contents\n",
    "---\n",
    "1. [Introduction](#intro)\n",
    " * Background\n",
    " * Problem Statement\n",
    "---\n",
    "2. [Load Dependencies](#imports)\n",
    "---\n",
    "3. [Data Cleaning](#cleaning)\n",
    "---\n",
    "4. [Exploratory Data Analysis](#EDA)\n",
    "---\n",
    "5. [Data Preprocessing](#preprocessing)\n",
    "---\n",
    "6. [Modelling](#modelling)\n",
    "---\n",
    "7. [Performance Evaluation](#evaluation)\n",
    "---\n",
    "8. [Model Analysis](#analysis)\n",
    "---\n",
    "9. [Conclusion](#conclusion)\n",
    "---\n",
    "10. [Save Output](#save)\n",
    "---"
   ]
  },
  {
   "cell_type": "markdown",
   "metadata": {
    "colab_type": "text",
    "id": "FuWPzFFu2Fw4"
   },
   "source": [
    "<a id=\"intro\"></a>\n",
    "## 1. Introduction  \n",
    "\n",
    "### Background\n",
    "\n",
    "\n",
    "### Problem Statement\n",
    "\n"
   ]
  },
  {
   "cell_type": "markdown",
   "metadata": {
    "colab_type": "text",
    "id": "_9Q_MjhR2Fw5"
   },
   "source": [
    "<a id=\"imports\"></a>\n",
    "## 2. Load Dependencies"
   ]
  },
  {
   "cell_type": "code",
   "execution_count": null,
   "metadata": {},
   "outputs": [],
   "source": [
    "# Link workspace to Comet experiment\n",
    "# !pip install comet_ml\n",
    "# from comet_ml import Experiment\n",
    "# experiment = Experiment(api_key=\"XXX\", project_name=\"XXX\", workspace=\"XXX\")"
   ]
  },
  {
   "cell_type": "code",
   "execution_count": null,
   "metadata": {
    "colab": {
     "base_uri": "https://localhost:8080/",
     "height": 367
    },
    "colab_type": "code",
    "executionInfo": {
     "elapsed": 7044,
     "status": "error",
     "timestamp": 1590582252986,
     "user": {
      "displayName": "Elvis Phipa",
      "photoUrl": "",
      "userId": "05952017501109493609"
     },
     "user_tz": -120
    },
    "id": "sHYujSMU2Fw7",
    "outputId": "8a39bda8-b7ee-4d26-9f8b-8fa44eaffb7a"
   },
   "outputs": [],
   "source": [
    "# Ignore warnings\n",
    "import warnings\n",
    "warnings.simplefilter(action='ignore')\n",
    "\n",
    "# Install Prerequisites\n",
    "import sys\n",
    "import nltk\n",
    "!{sys.executable} -m pip install bs4 lxml wordcloud scikit-learn scikit-plot\n",
    "nltk.download('vader_lexicon')\n",
    "\n",
    "# Exploratory Data Analysis\n",
    "import pickle\n",
    "import numpy as np\n",
    "import pandas as pd\n",
    "import seaborn as sns\n",
    "import matplotlib.pyplot as plt\n",
    "\n",
    "# Data Preprocessing\n",
    "\n",
    "# Models\n",
    "\n",
    "# Performance Evaluation\n",
    "\n",
    "# Display\n",
    "%matplotlib inline\n",
    "sns.set(font_scale=1)\n",
    "sns.set_style(\"white\")"
   ]
  },
  {
   "cell_type": "markdown",
   "metadata": {
    "colab_type": "text",
    "id": "hwuqPkzkDM62"
   },
   "source": [
    "<a id=\"cleaning\"></a>\n",
    "## 3. Data Cleaning"
   ]
  },
  {
   "cell_type": "markdown",
   "metadata": {
    "colab_type": "text",
    "id": "hwuqPkzkDM62"
   },
   "source": [
    "<a id=\"EDA\"></a>\n",
    "## 4. Exploratory Data Analysis"
   ]
  },
  {
   "cell_type": "markdown",
   "metadata": {
    "colab_type": "text",
    "id": "z6jONYzo2Fx2"
   },
   "source": [
    "<a id=\"preprocessing\"></a>\n",
    "## 5. Data Preprocessing"
   ]
  },
  {
   "cell_type": "markdown",
   "metadata": {
    "colab_type": "text",
    "id": "chM0AHBJ2FyD"
   },
   "source": [
    "<a id=\"modelling\"></a>\n",
    "## 6. Modelling"
   ]
  },
  {
   "cell_type": "markdown",
   "metadata": {
    "colab_type": "text",
    "id": "teKzAXIF2FyS"
   },
   "source": [
    "<a id=\"evaluation\"></a>\n",
    "## 7. Performance Evaluation"
   ]
  },
  {
   "cell_type": "markdown",
   "metadata": {
    "colab_type": "text",
    "id": "5BiBBxvR2FyY"
   },
   "source": [
    "<a id=\"analysis\"></a>\n",
    "## 8. Model Analysis"
   ]
  },
  {
   "cell_type": "markdown",
   "metadata": {},
   "source": [
    "<a id=\"conclusion\"></a>\n",
    "## 9. Conclusion"
   ]
  },
  {
   "cell_type": "markdown",
   "metadata": {},
   "source": [
    "<a id=\"save\"></a>\n",
    "## 10. Save Output"
   ]
  },
  {
   "cell_type": "code",
   "execution_count": 75,
   "metadata": {},
   "outputs": [],
   "source": [
    "# Create Kaggle Submission File\n",
    "# results.to_csv(\"Team_RM4_submission.csv\", index=False)"
   ]
  },
  {
   "cell_type": "code",
   "execution_count": null,
   "metadata": {},
   "outputs": [],
   "source": [
    "# print(\"\\nResults\\nConfusion matrix \\n {}\".format(confusion_matrix(y_val, y_pred)))\n",
    "# f1 = f1_score(y_val, y_pred,average=\"macro\")\n",
    "# precision = precision_score(y_val, y_pred,average=\"macro\")\n",
    "# recall = recall_score(y_val, y_pred,average=\"macro\")\n",
    "# params = {\"random_state\": 42,\n",
    "#           \"model_type\": \"svc\",\n",
    "#           \"param_grid\": \"str(param_grid)\",\n",
    "#           \"stratify\": True,\n",
    "#           }\n",
    "# metrics = {\"f1\": f1,\n",
    "#            \"recall\": recall,\n",
    "#            \"precision\": precision\n",
    "#            }\n",
    "\n",
    "# experiment.log_parameters(params)\n",
    "# experiment.log_metrics(metrics)\n",
    "# experiment.end()"
   ]
  },
  {
   "cell_type": "code",
   "execution_count": null,
   "metadata": {},
   "outputs": [],
   "source": [
    "# experiment.display()"
   ]
  },
  {
   "cell_type": "markdown",
   "metadata": {
    "colab_type": "text",
    "id": "eoo2Ek6G2Fy6"
   },
   "source": [
    "[Back to top ↑](#top)"
   ]
  }
 ],
 "metadata": {
  "colab": {
   "collapsed_sections": [],
   "name": "Team_19_JHB_RegressionNotebook.ipynb",
   "provenance": []
  },
  "kernelspec": {
   "display_name": "Python 3",
   "language": "python",
   "name": "python3"
  },
  "language_info": {
   "codemirror_mode": {
    "name": "ipython",
    "version": 3
   },
   "file_extension": ".py",
   "mimetype": "text/x-python",
   "name": "python",
   "nbconvert_exporter": "python",
   "pygments_lexer": "ipython3",
   "version": "3.7.4"
  }
 },
 "nbformat": 4,
 "nbformat_minor": 1
}
