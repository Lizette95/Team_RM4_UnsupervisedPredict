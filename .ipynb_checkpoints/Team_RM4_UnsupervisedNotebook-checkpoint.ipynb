{
 "cells": [
  {
   "cell_type": "markdown",
   "metadata": {
    "colab_type": "text",
    "id": "view-in-github"
   },
   "source": [
    "<a href=\"https://colab.research.google.com/github/Lizette95/Team_RM4_UnsupervisedPredict/blob/master/Team_RM4_UnsupervisedNotebook.ipynb\" target=\"_parent\"><img src=\"https://colab.research.google.com/assets/colab-badge.svg\" alt=\"Open In Colab\"/></a>"
   ]
  },
  {
   "cell_type": "markdown",
   "metadata": {
    "colab_type": "text",
    "id": "JmwSEWO22Fw1"
   },
   "source": [
    "<a id=\"top\"></a>\n",
    "# Team RM4 Unsupervised Predict Notebook"
   ]
  },
  {
   "cell_type": "markdown",
   "metadata": {
    "colab_type": "text",
    "id": "0n60dl8EL9eh"
   },
   "source": [
    "**Team Members:** Bulelani Nkosi, Lizette Loubser, Nelisiwe Phiwe Mabanga, Noluthando Khumalo, Nompilo Nhlabathi, Sizwe Bhembe  \n",
    "**Supervisor:** Ridha Moosa\n",
    "\n",
    "* [Notebook repo](https://github.com/Lizette95/Team_RM4_UnsupervisedPredict)\n",
    "* [Streamlit repo](https://github.com/Lizette95/unsupervised-predict-streamlit-template)\n",
    "* [Trello board](https://trello.com/b/1xeVg7gj/unsupervisedteamrm4) "
   ]
  },
  {
   "cell_type": "markdown",
   "metadata": {
    "colab_type": "text",
    "id": "PJbrOXzh2Fw3"
   },
   "source": [
    "### Table of Contents\n",
    "---\n",
    "1. [Introduction](#intro)\n",
    " * Background\n",
    " * Problem Statement\n",
    "---\n",
    "2. [Load Dependencies](#imports)\n",
    "---\n",
    "3. [Data Cleaning](#cleaning)\n",
    "---\n",
    "4. [Exploratory Data Analysis](#EDA)\n",
    "---\n",
    "5. [Data Preprocessing](#preprocessing)\n",
    "---\n",
    "6. [Modelling](#modelling)\n",
    "---\n",
    "7. [Performance Evaluation](#evaluation)\n",
    "---\n",
    "8. [Model Analysis](#analysis)\n",
    "---\n",
    "9. [Conclusion](#conclusion)\n",
    "---\n",
    "10. [References](#references)\n",
    "---\n",
    "11. [Save Output](#save)\n",
    "--- "
   ]
  },
  {
   "cell_type": "markdown",
   "metadata": {
    "colab_type": "text",
    "id": "FuWPzFFu2Fw4"
   },
   "source": [
    "<a id=\"intro\"></a>\n",
    "## 1. Introduction  \n",
    "\n",
    "### Background\n",
    "\n",
    "In today's technology driven world, recommender systems are critical to ensuring users can make appropriate decisions about the content they engage with daily.\n",
    "\n",
    "Recommender systems help users select similar items when something is being chosen online. Netflix or Amazon would suggest different movies and titles that might interest individual users. In education, these systems may be used to suggest learning material that could improve educational outcomes. These types of algorithms lead to service improvement and customer satisfaction.\n",
    "\n",
    "Current recommendation systems - content-based filtering and collaborative  filtering - use difference information sources to make recommendations [1](#ref1).\n",
    "\n",
    "#### Content-based filtering\n",
    "\n",
    "This method makes recommendations based on user preferences for product features. It is able to recommend new items, but is limited by the need for more data of user preference to improve the quality of recommendations.\n",
    "\n",
    "#### Collaborative filtering\n",
    "\n",
    "Collaborative filtering mimics user-to-user recommendations. In other words, If you and your friend have similar tastes, you are likely to make recommendations the other would approve of. This method finds similar users and predicts their preferences as a linear, weighted combination of other user preferences. The limitation is the requirement of a large dataset with active useres who rated a product before in order to make accurate predictions.\n",
    "\n",
    "#### Hybrid systems\n",
    "\n",
    "A combination of these two recommendations systems is called a hybrid system. They mix the features of the item itself and the preferences of other users [2](#ref2).\n",
    "\n",
    "### Problem Statement\n",
    "Construct a recommendation algorithm based on contemnt or collaborative filtering, capable of accurately predicting how a user will rate a movie they have not yet viewed based on their historical preferences\n",
    "\n"
   ]
  },
  {
   "cell_type": "markdown",
   "metadata": {
    "colab_type": "text",
    "id": "_9Q_MjhR2Fw5"
   },
   "source": [
    "<a id=\"imports\"></a>\n",
    "## 2. Load Dependencies"
   ]
  },
  {
   "cell_type": "markdown",
   "metadata": {},
   "source": [
    "### Connecting to Comet"
   ]
  },
  {
   "cell_type": "code",
   "execution_count": 43,
   "metadata": {
    "colab": {
     "base_uri": "https://localhost:8080/",
     "height": 588
    },
    "colab_type": "code",
    "id": "LCQ4QOGWL9ek",
    "outputId": "516bc3ad-a21c-4c97-9bb0-4342c4129b46"
   },
   "outputs": [],
   "source": [
    "# Link workspace to Comet experiment\n",
    "# !pip install comet_ml\n",
    "# from comet_ml import Experiment\n",
    "# experiment = Experiment(api_key=\"skTy61Bw2NfYh84G1ifx0OO26\", project_name=\"unsupervised-predict\", workspace=\"jhb-rm4\")"
   ]
  },
  {
   "cell_type": "markdown",
   "metadata": {},
   "source": [
    "### Libriaries"
   ]
  },
  {
   "cell_type": "code",
   "execution_count": 44,
   "metadata": {
    "colab": {},
    "colab_type": "code",
    "id": "sHYujSMU2Fw7"
   },
   "outputs": [],
   "source": [
    "# Ignore warnings\n",
    "import warnings\n",
    "warnings.simplefilter(action='ignore')\n",
    "\n",
    "# Install Prerequisites\n",
    "import sys\n",
    "import nltk\n",
    "# !{sys.executable} -m pip install bs4 lxml wordcloud scikit-learn scikit-plot\n",
    "# nltk.download('vader_lexicon')\n",
    "\n",
    "# Exploratory Data Analysis\n",
    "import pickle\n",
    "import numpy as np\n",
    "import pandas as pd\n",
    "import seaborn as sns\n",
    "import matplotlib.pyplot as plt\n",
    "\n",
    "# Data Preprocessing\n",
    "\n",
    "# Models\n",
    "\n",
    "# Performance Evaluation\n",
    "\n",
    "# Display\n",
    "%matplotlib inline\n",
    "sns.set(font_scale=1)\n",
    "sns.set_style(\"white\")\n",
    "pd.set_option('display.max_columns', 37)"
   ]
  },
  {
   "cell_type": "markdown",
   "metadata": {},
   "source": [
    "### Data"
   ]
  },
  {
   "cell_type": "markdown",
   "metadata": {},
   "source": [
    "#### Train and test data:\n",
    "This is the data used for training and Kaggle submission purposes. The rating is the target variable."
   ]
  },
  {
   "cell_type": "code",
   "execution_count": 52,
   "metadata": {},
   "outputs": [
    {
     "name": "stdout",
     "output_type": "stream",
     "text": [
      "(10000038, 4) (5000019, 2)\n"
     ]
    },
    {
     "data": {
      "text/html": [
       "<div>\n",
       "<style scoped>\n",
       "    .dataframe tbody tr th:only-of-type {\n",
       "        vertical-align: middle;\n",
       "    }\n",
       "\n",
       "    .dataframe tbody tr th {\n",
       "        vertical-align: top;\n",
       "    }\n",
       "\n",
       "    .dataframe thead th {\n",
       "        text-align: right;\n",
       "    }\n",
       "</style>\n",
       "<table border=\"1\" class=\"dataframe\">\n",
       "  <thead>\n",
       "    <tr style=\"text-align: right;\">\n",
       "      <th></th>\n",
       "      <th>userId</th>\n",
       "      <th>movieId</th>\n",
       "      <th>rating</th>\n",
       "      <th>timestamp</th>\n",
       "    </tr>\n",
       "  </thead>\n",
       "  <tbody>\n",
       "    <tr>\n",
       "      <th>0</th>\n",
       "      <td>5163</td>\n",
       "      <td>57669</td>\n",
       "      <td>4.0</td>\n",
       "      <td>1518349992</td>\n",
       "    </tr>\n",
       "    <tr>\n",
       "      <th>1</th>\n",
       "      <td>106343</td>\n",
       "      <td>5</td>\n",
       "      <td>4.5</td>\n",
       "      <td>1206238739</td>\n",
       "    </tr>\n",
       "    <tr>\n",
       "      <th>2</th>\n",
       "      <td>146790</td>\n",
       "      <td>5459</td>\n",
       "      <td>5.0</td>\n",
       "      <td>1076215539</td>\n",
       "    </tr>\n",
       "  </tbody>\n",
       "</table>\n",
       "</div>"
      ],
      "text/plain": [
       "   userId  movieId  rating   timestamp\n",
       "0    5163    57669     4.0  1518349992\n",
       "1  106343        5     4.5  1206238739\n",
       "2  146790     5459     5.0  1076215539"
      ]
     },
     "execution_count": 52,
     "metadata": {},
     "output_type": "execute_result"
    }
   ],
   "source": [
    "train_df = pd.read_csv('../../edsa-recommender-system-predict/train.csv')\n",
    "test_df = pd.read_csv('../../edsa-recommender-system-predict/test.csv')\n",
    "samp = pd.read_csv('../../edsa-recommender-system-predict/sample_submission.csv')\n",
    "print(train_df.shape, test_df.shape)\n",
    "train_df.head(3)"
   ]
  },
  {
   "cell_type": "markdown",
   "metadata": {},
   "source": [
    "It is noted that the train data includes an additiona column \"timestamp\" This data can be safely dropped as there is no reasonable link between the time someone watches a movie and whether or not they rate it favourably."
   ]
  },
  {
   "cell_type": "markdown",
   "metadata": {},
   "source": [
    "#### Movie Data:"
   ]
  },
  {
   "cell_type": "code",
   "execution_count": 46,
   "metadata": {},
   "outputs": [
    {
     "name": "stdout",
     "output_type": "stream",
     "text": [
      "(62423, 2) (27278, 5) (62423, 2) (15584448, 2) (1128, 1)\n"
     ]
    }
   ],
   "source": [
    "movies_df =  pd.read_csv('../../edsa-recommender-system-predict/movies.csv', index_col='movieId')\n",
    "imdb_df =  pd.read_csv('../../edsa-recommender-system-predict/imdb_data.csv', index_col='movieId')\n",
    "links_df =  pd.read_csv('../../edsa-recommender-system-predict/links.csv', index_col='movieId')\n",
    "genome_scores =  pd.read_csv('../../edsa-recommender-system-predict/genome_scores.csv', index_col='movieId')\n",
    "genome_tags =  pd.read_csv('../../edsa-recommender-system-predict/genome_tags.csv', index_col='tagId')\n",
    "print(movies_df.shape, imdb_df.shape, links_df.shape, genome_scores.shape, genome_tags.shape)"
   ]
  },
  {
   "cell_type": "code",
   "execution_count": 193,
   "metadata": {
    "scrolled": true
   },
   "outputs": [
    {
     "data": {
      "text/html": [
       "<div>\n",
       "<style scoped>\n",
       "    .dataframe tbody tr th:only-of-type {\n",
       "        vertical-align: middle;\n",
       "    }\n",
       "\n",
       "    .dataframe tbody tr th {\n",
       "        vertical-align: top;\n",
       "    }\n",
       "\n",
       "    .dataframe thead th {\n",
       "        text-align: right;\n",
       "    }\n",
       "</style>\n",
       "<table border=\"1\" class=\"dataframe\">\n",
       "  <thead>\n",
       "    <tr style=\"text-align: right;\">\n",
       "      <th></th>\n",
       "      <th>tag</th>\n",
       "    </tr>\n",
       "    <tr>\n",
       "      <th>tagId</th>\n",
       "      <th></th>\n",
       "    </tr>\n",
       "  </thead>\n",
       "  <tbody>\n",
       "    <tr>\n",
       "      <th>1</th>\n",
       "      <td>007</td>\n",
       "    </tr>\n",
       "    <tr>\n",
       "      <th>2</th>\n",
       "      <td>007 (series)</td>\n",
       "    </tr>\n",
       "    <tr>\n",
       "      <th>3</th>\n",
       "      <td>18th century</td>\n",
       "    </tr>\n",
       "  </tbody>\n",
       "</table>\n",
       "</div>"
      ],
      "text/plain": [
       "                tag\n",
       "tagId              \n",
       "1               007\n",
       "2      007 (series)\n",
       "3      18th century"
      ]
     },
     "execution_count": 193,
     "metadata": {},
     "output_type": "execute_result"
    }
   ],
   "source": [
    "genome_tags.head(3)"
   ]
  },
  {
   "cell_type": "markdown",
   "metadata": {},
   "source": [
    "Some features have been grouped into a single column. Let's write a function to extract them for later use"
   ]
  },
  {
   "cell_type": "code",
   "execution_count": null,
   "metadata": {},
   "outputs": [],
   "source": []
  },
  {
   "cell_type": "markdown",
   "metadata": {},
   "source": [
    "### Data Definitions\n",
    "\n",
    "**Numeric**\n",
    "* **budget:** - (continuous) dollar cost of production of the movie.\n",
    "* **rating:** - (discrete) users rating of a movie from. **TARGET**\n",
    "* **relevance:** - (continuous) measure (0-1) of the relevance of a genome tag to the movie, where 1 impies 100% relevance.\n",
    "* **runtime:** - (continuos) movie duration in minutes.\n",
    "* **timestamp:** - (continuous) the time at which a user rated the movie.\n",
    "\n",
    "\n",
    "**Categorical**\n",
    "* **director:** - (nominal) the person who controls the making of a film and supervises the actors and technical crew.\n",
    "* **genres:** - (nominal) the style or category of the movie. A movie may belong to multiple (up to nineteen) genres, or may be absent a genre listing.\n",
    "* **imdbId:** - (nominal) unique indentifying key for each IMBD entry. Can also be used in conjunction with the TMDB API.\n",
    "* **movieId:** - (nominal) a unique identifier for each movie. There are 48,213 unique movies.\n",
    "* **plot_keywords:** - (nominal) key words used to identify characteristics of a movie's storyline.\n",
    "* **tag:** - (nominal) genome label\n",
    "* **tagId:** - (nominal) unique genome identifier.\n",
    "* **tmdbId:** - (nominal) unique identifier that works in conjunction with the TMDB API.\n",
    "* **title:** - (nominal) the unique title identifying the movie. Included is a year of release enclosed in parenthesis at the end of the title.\n",
    "* **title_cast:** - (nominal) the actors of the main characters in the movie. This does not include extras.\n",
    "* **userId:** - (nominal) a unique identifier for each user. There are 162,5a41 unique users.\n",
    "\n",
    "*The Movie Genome concept is borrowed from the Human Genome Project, a scientific project to identify and map all human genes. Similarly, a Movie Genome identifies and indexes multiple “genes” (elements and aspects) of a movie.*"
   ]
  },
  {
   "cell_type": "markdown",
   "metadata": {
    "colab_type": "text",
    "id": "hwuqPkzkDM62"
   },
   "source": [
    "<a id=\"cleaning\"></a>\n",
    "## 3. Data Cleaning"
   ]
  },
  {
   "cell_type": "markdown",
   "metadata": {
    "colab_type": "text",
    "id": "S5hj30DdL9eq"
   },
   "source": [
    "<a id=\"EDA\"></a>\n",
    "## 4. Exploratory Data Analysis"
   ]
  },
  {
   "cell_type": "code",
   "execution_count": 67,
   "metadata": {
    "scrolled": true
   },
   "outputs": [
    {
     "data": {
      "text/plain": [
       "userId        162541\n",
       "movieId        48213\n",
       "rating            10\n",
       "timestamp    8795101\n",
       "dtype: int64"
      ]
     },
     "execution_count": 67,
     "metadata": {},
     "output_type": "execute_result"
    }
   ],
   "source": [
    "## Move to EDA\n",
    "# How many unique users, movies, and ratings are there\n",
    "train_df.nunique()"
   ]
  },
  {
   "cell_type": "code",
   "execution_count": 101,
   "metadata": {},
   "outputs": [
    {
     "data": {
      "text/plain": [
       "<matplotlib.axes._subplots.AxesSubplot at 0x22c27623f08>"
      ]
     },
     "execution_count": 101,
     "metadata": {},
     "output_type": "execute_result"
    },
    {
     "data": {
      "image/png": "[encoded data removed]",
      "text/plain": [
       "<Figure size 432x288 with 1 Axes>"
      ]
     },
     "metadata": {},
     "output_type": "display_data"
    }
   ],
   "source": [
    "# Which users have rated the most movies?\n",
    "data = train_df['userId'].value_counts().head(10)\n",
    "sns.barplot(x = data.index, y = data, order= data.index)\n",
    "# User 72315 has a substantially large number of rated movies. They could be useful for collaborative filtering"
   ]
  },
  {
   "cell_type": "code",
   "execution_count": 102,
   "metadata": {},
   "outputs": [
    {
     "name": "stdout",
     "output_type": "stream",
     "text": [
      "3.5333951730983424\n",
      "3.5\n"
     ]
    },
    {
     "data": {
      "image/png": "[encoded data removed]",
      "text/plain": [
       "<Figure size 432x288 with 1 Axes>"
      ]
     },
     "metadata": {},
     "output_type": "display_data"
    }
   ],
   "source": [
    "sns.countplot(train_df['rating'])\n",
    "print(train_df['rating'].mean())\n",
    "print(train_df['rating'].median())\n",
    "## Observations\n",
    "# 1. Most people are forgiving and do not rate movies negatively (<=2.5) very often.\n",
    "# 2. Most people tend to give movies a rating of 4\n",
    "# 3. The leftward skew of the distribution, "
   ]
  },
  {
   "cell_type": "markdown",
   "metadata": {
    "colab_type": "text",
    "id": "z6jONYzo2Fx2"
   },
   "source": [
    "<a id=\"preprocessing\"></a>\n",
    "## 5. Data Preprocessing"
   ]
  },
  {
   "cell_type": "code",
   "execution_count": 198,
   "metadata": {
    "scrolled": true
   },
   "outputs": [
    {
     "name": "stdout",
     "output_type": "stream",
     "text": [
      "Genres:  ['(no genres listed)', 'Action', 'Adventure', 'Animation', 'Children', 'Comedy', 'Crime', 'Documentary', 'Drama', 'Fantasy', 'Film-Noir', 'Horror', 'IMAX', 'Musical', 'Mystery', 'Romance', 'Sci-Fi', 'Thriller', 'War', 'Western']\n",
      "Cast:  [\"'Astor' Escobar\", \"'Baby' Paul Cullen\", \"'Bad' Chad Broussard\", \"'Chicken' Klabunde\", \"'Country' Winston Marshall\", \"'Cousin Brucie' Morrow\", \"'Crazy' Tim Credeur\", \"'E.' Jay\", \"'Evil' Ted Smith\", \"'Freeway' Ricky Ross\"]\n",
      "Plots:  ['007', '10 downing street london', '1000000 b.c.', '10th century', '11 year old', '1120s', '1190s', '12 year old', '12 year time span', '1200 b.c.']\n"
     ]
    }
   ],
   "source": [
    "def feat_extractor(df, col):\n",
    "    df.fillna(\"\", inplace=True)\n",
    "    feat_set = set()\n",
    "    for i in range(len(df[f'{col}'])):\n",
    "        for feat in df[f'{col}'].iloc[i].split('|'):\n",
    "            feat_set.add(feat)\n",
    "    return sorted([feat for feat in feat_set if feat != \"\"])\n",
    "\n",
    "genre_list = feat_extractor(movies_df,'genres')\n",
    "print(\"Genres: \", genre_list)\n",
    "\n",
    "cast_list = feat_extractor(imdb_df, 'title_cast')\n",
    "print(\"Cast: \", cast_list[:10])\n",
    "\n",
    "plot_keyword_list = feat_extractor(imdb_df, 'plot_keywords')\n",
    "print(\"Plots: \", plot_keyword_list[:10])"
   ]
  },
  {
   "cell_type": "markdown",
   "metadata": {
    "colab_type": "text",
    "id": "chM0AHBJ2FyD"
   },
   "source": [
    "<a id=\"modelling\"></a>\n",
    "## 6. Modelling"
   ]
  },
  {
   "cell_type": "markdown",
   "metadata": {
    "colab_type": "text",
    "id": "teKzAXIF2FyS"
   },
   "source": [
    "<a id=\"evaluation\"></a>\n",
    "## 7. Performance Evaluation"
   ]
  },
  {
   "cell_type": "markdown",
   "metadata": {
    "colab_type": "text",
    "id": "5BiBBxvR2FyY"
   },
   "source": [
    "<a id=\"analysis\"></a>\n",
    "## 8. Model Analysis"
   ]
  },
  {
   "cell_type": "markdown",
   "metadata": {
    "colab_type": "text",
    "id": "VVzGHxoQL9es"
   },
   "source": [
    "<a id=\"conclusion\"></a>\n",
    "## 9. Conclusion"
   ]
  },
  {
   "cell_type": "markdown",
   "metadata": {},
   "source": [
    "## 10. References\n",
    "<a id=\"ref1\"></a>[1] Ansari, A. (n.d.). Internet Recommendation Systems. Retrieved August/September, 2000, from https://www0.gsb.columbia.edu/mygsb/faculty/research/pubfiles/385/Internet Recommendation Systems.pdf\n",
    "\n",
    "<a id=\"ref2\"></a>[2] Shi, C. (2017, June 27). A Hybrid Recommender with Yelp Challenge. Retrieved from https://nycdatascience.com/blog/student-works/yelp-recommender-part-1/"
   ]
  },
  {
   "cell_type": "markdown",
   "metadata": {
    "colab_type": "text",
    "id": "j4eHDTwoL9et"
   },
   "source": [
    "<a id=\"save\"></a>\n",
    "## 10. Save Output"
   ]
  },
  {
   "cell_type": "code",
   "execution_count": null,
   "metadata": {
    "colab": {},
    "colab_type": "code",
    "id": "LjAQTPZmL9et"
   },
   "outputs": [],
   "source": [
    "# Create Kaggle Submission File\n",
    "# results.to_csv(\"Team_RM4_submission.csv\", index=False)"
   ]
  },
  {
   "cell_type": "code",
   "execution_count": null,
   "metadata": {
    "colab": {},
    "colab_type": "code",
    "id": "DWi0DhWiL9ew"
   },
   "outputs": [],
   "source": [
    "# print(\"\\nResults\\nConfusion matrix \\n {}\".format(confusion_matrix(y_val, y_pred)))\n",
    "# f1 = f1_score(y_val, y_pred,average=\"macro\")\n",
    "# precision = precision_score(y_val, y_pred,average=\"macro\")\n",
    "# recall = recall_score(y_val, y_pred,average=\"macro\")\n",
    "# params = {\"random_state\": 42,\n",
    "#           \"model_type\": \"svc\",\n",
    "#           \"param_grid\": \"str(param_grid)\",\n",
    "#           \"stratify\": True,\n",
    "#           }\n",
    "# metrics = {\"f1\": f1,\n",
    "#            \"recall\": recall,\n",
    "#            \"precision\": precision\n",
    "#            }\n",
    "\n",
    "# experiment.log_parameters(params)\n",
    "# experiment.log_metrics(metrics)\n",
    "# experiment.end()"
   ]
  },
  {
   "cell_type": "code",
   "execution_count": null,
   "metadata": {
    "colab": {},
    "colab_type": "code",
    "id": "7kwqZ3ToL9ey"
   },
   "outputs": [],
   "source": [
    "# experiment.display()"
   ]
  },
  {
   "cell_type": "markdown",
   "metadata": {
    "colab_type": "text",
    "id": "eoo2Ek6G2Fy6"
   },
   "source": [
    "[Back to top ↑](#top)"
   ]
  }
 ],
 "metadata": {
  "colab": {
   "collapsed_sections": [],
   "include_colab_link": true,
   "name": "Team_RM4_UnsupervisedNotebook.ipynb",
   "provenance": []
  },
  "kernelspec": {
   "display_name": "Python 3",
   "language": "python",
   "name": "python3"
  },
  "language_info": {
   "codemirror_mode": {
    "name": "ipython",
    "version": 3
   },
   "file_extension": ".py",
   "mimetype": "text/x-python",
   "name": "python",
   "nbconvert_exporter": "python",
   "pygments_lexer": "ipython3",
   "version": "3.7.6"
  }
 },
 "nbformat": 4,
 "nbformat_minor": 1
}
